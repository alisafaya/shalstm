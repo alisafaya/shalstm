{
 "cells": [
  {
   "cell_type": "code",
   "execution_count": null,
   "metadata": {},
   "outputs": [],
   "source": [
    "from tokenizers import SentencePieceUnigramTokenizer, models, pre_tokenizers, decoders, trainers, processors\n",
    "\n",
    "# initialize the tokenizer\n",
    "tokenizer = SentencePieceUnigramTokenizer()\n",
    "\n",
    "# And then train\n",
    "# trainer = trainers.UnigramTrainer(vocab_size=2048, min_frequency=2)\n",
    "\n",
    "tokenizer.train([\n",
    "    \"/kuacc/users/asafaya19/shalstm/data/enwik8/train.txt.raw\",\n",
    "], vocab_size=2048)\n",
    "\n",
    "# And Save it\n",
    "tokenizer.save(\"tokenizer/sp-unigram.tokenizer.json\", pretty=True)"
   ]
  },
  {
   "cell_type": "code",
   "execution_count": null,
   "metadata": {},
   "outputs": [],
   "source": []
  }
 ],
 "metadata": {
  "kernelspec": {
   "display_name": "Python 3",
   "language": "python",
   "name": "python3"
  },
  "language_info": {
   "codemirror_mode": {
    "name": "ipython",
    "version": 3
   },
   "file_extension": ".py",
   "mimetype": "text/x-python",
   "name": "python",
   "nbconvert_exporter": "python",
   "pygments_lexer": "ipython3",
   "version": "3.7.9"
  }
 },
 "nbformat": 4,
 "nbformat_minor": 4
}
