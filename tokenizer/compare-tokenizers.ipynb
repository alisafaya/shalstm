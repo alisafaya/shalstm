{
 "cells": [
  {
   "cell_type": "code",
   "execution_count": 33,
   "metadata": {},
   "outputs": [
    {
     "name": "stdout",
     "output_type": "stream",
     "text": [
      "Split on whitespace 99 tokens\n",
      "----------------------------------------------------------------------------------------------------\n",
      "Loading 4k_model\n",
      "279 tokens\n",
      "----------------------------------------------------------------------------------------------------\n",
      "▁We ▁a im ed ▁to ▁evaluate ▁the ▁effect ▁of ▁sleep ▁quality ▁on ▁memory , ▁ex ec ut ive ▁function , ▁and ▁language ▁performance ▁in ▁patients ▁with ▁re frac t ory ▁fo cal ▁epi le p s y ▁and ▁control led ▁epi le p s y ▁and ▁comp are ▁these ▁with ▁health y ▁individual s . ▁We ▁pro spec t ive ly ▁en roll ed ▁ 37 ▁ ado les cent ▁and ▁adult ▁patients ▁with ▁re frac t ory ▁fo cal ▁epi le p s y . ▁How ▁to ▁avoid ▁anti - c lock wise ▁ro t ation ▁an im ation ▁when ▁re set ing ▁ro t ation ▁from ▁3 60 de g ▁to ▁0 ▁de g ? ▁I ▁am ▁cre ating ▁an ▁an im ation ▁that ▁look s ▁like ▁a ▁f ancy ▁wh e el , ▁When ▁re set ting ▁ro t ation ▁from ▁3 60 de g ▁to ▁0 ▁de g , ▁It ▁an im ating ▁the ▁wh e el ▁in ▁anti - c lock wise ▁direction , ▁How ▁to ▁A vo id ▁this ? ? ? ▁H T M L ▁< ul ▁class =\" cm \"> ▁< li >< span > 01 </ span ></ li > ▁< li >< span > 02 </ span ></ li > ▁< li >< span > 03 </ span ></ li > ▁< li >< span > 04 </ span ></ li > ▁< li >< span > 05 </ span ></ li > ▁< li >< span > 06 </ span ></ li > ▁< li >< span > 07 </ span ></ li > ▁< li >< span > 08 </ span ></ li > ▁</ ul >\n",
      "----------------------------------------------------------------------------------------------------\n",
      "Loading 8k_model\n",
      "250 tokens\n",
      "----------------------------------------------------------------------------------------------------\n",
      "▁We ▁aim ed ▁to ▁evaluate ▁the ▁effect ▁of ▁sleep ▁quality ▁on ▁memory , ▁executive ▁function , ▁and ▁language ▁performance ▁in ▁patients ▁with ▁re frac tory ▁fo cal ▁epi le p s y ▁and ▁controlled ▁epi le p s y ▁and ▁compare ▁these ▁with ▁healthy ▁individuals . ▁We ▁prospect ive ly ▁en roll ed ▁37 ▁ ado les cent ▁and ▁adult ▁patients ▁with ▁re frac tory ▁fo cal ▁epi le p s y . ▁How ▁to ▁avoid ▁anti - c lock wise ▁rotation ▁ anim ation ▁when ▁re set ing ▁rotation ▁from ▁3 60 de g ▁to ▁0 ▁de g ? ▁I ▁am ▁creating ▁an ▁ anim ation ▁that ▁looks ▁like ▁a ▁f ancy ▁wheel , ▁When ▁res etting ▁rotation ▁from ▁3 60 de g ▁to ▁0 ▁de g , ▁It ▁ anim ating ▁the ▁wheel ▁in ▁anti - c lock wise ▁direction , ▁How ▁to ▁A void ▁this ? ? ? ▁ HTML ▁< ul ▁class =\" cm \"> ▁< li >< span > 01 </ span ></ li > ▁< li >< span > 02 </ span ></ li > ▁< li >< span > 03 </ span ></ li > ▁< li >< span > 04 </ span ></ li > ▁< li >< span > 05 </ span ></ li > ▁< li >< span > 06 </ span ></ li > ▁< li >< span > 07 </ span ></ li > ▁< li >< span > 08 </ span ></ li > ▁</ ul >\n",
      "----------------------------------------------------------------------------------------------------\n",
      "Loading 16k_model\n",
      "224 tokens\n",
      "----------------------------------------------------------------------------------------------------\n",
      "▁We ▁aimed ▁to ▁evaluate ▁the ▁effect ▁of ▁sleep ▁quality ▁on ▁memory , ▁executive ▁function , ▁and ▁language ▁performance ▁in ▁patients ▁with ▁re frac tory ▁focal ▁epi le psy ▁and ▁controlled ▁epi le psy ▁and ▁compare ▁these ▁with ▁healthy ▁individuals . ▁We ▁prospective ly ▁enrolled ▁37 ▁adolescent ▁and ▁adult ▁patients ▁with ▁re frac tory ▁focal ▁epi le psy . ▁How ▁to ▁avoid ▁anti - clock wise ▁rotation ▁animation ▁when ▁reset ing ▁rotation ▁from ▁ 360 de g ▁to ▁0 ▁de g ? ▁I ▁am ▁creating ▁an ▁animation ▁that ▁looks ▁like ▁a ▁fancy ▁wheel , ▁When ▁reset ting ▁rotation ▁from ▁ 360 de g ▁to ▁0 ▁de g , ▁It ▁ anim ating ▁the ▁wheel ▁in ▁anti - clock wise ▁direction , ▁How ▁to ▁A void ▁this ??? ▁HTML ▁< ul ▁class =\" cm \"> ▁< li >< span > 01 </ span ></ li > ▁< li >< span > 02 </ span ></ li > ▁< li >< span > 03 </ span ></ li > ▁< li >< span > 04 </ span ></ li > ▁< li >< span > 05 </ span ></ li > ▁< li >< span > 06 </ span ></ li > ▁< li >< span > 07 </ span ></ li > ▁< li >< span > 08 </ span ></ li > ▁</ ul >\n",
      "----------------------------------------------------------------------------------------------------\n",
      "Loading 32k_model\n",
      "207 tokens\n",
      "----------------------------------------------------------------------------------------------------\n",
      "▁We ▁aimed ▁to ▁evaluate ▁the ▁effect ▁of ▁sleep ▁quality ▁on ▁memory , ▁executive ▁function , ▁and ▁language ▁performance ▁in ▁patients ▁with ▁refractory ▁focal ▁epilepsy ▁and ▁controlled ▁epilepsy ▁and ▁compare ▁these ▁with ▁healthy ▁individuals . ▁We ▁prospective ly ▁enrolled ▁37 ▁adolescent ▁and ▁adult ▁patients ▁with ▁refractory ▁focal ▁epilepsy . ▁How ▁to ▁avoid ▁anti - clockwise ▁rotation ▁animation ▁when ▁reset ing ▁rotation ▁from ▁360 deg ▁to ▁0 ▁de g ? ▁I ▁am ▁creating ▁an ▁animation ▁that ▁looks ▁like ▁a ▁fancy ▁wheel , ▁When ▁re setting ▁rotation ▁from ▁360 deg ▁to ▁0 ▁de g , ▁It ▁ anim ating ▁the ▁wheel ▁in ▁anti - clockwise ▁direction , ▁How ▁to ▁Avoid ▁this ??? ▁HTML ▁< ul ▁class =\" cm \"> ▁< li >< span > 01 </ span ></ li > ▁< li >< span > 02 </ span ></ li > ▁< li >< span > 03 </ span ></ li > ▁< li >< span > 04 </ span ></ li > ▁< li >< span > 05 </ span ></ li > ▁< li >< span > 06 </ span ></ li > ▁< li >< span > 07 </ span ></ li > ▁< li >< span > 08 </ span ></ li > ▁</ ul >\n",
      "----------------------------------------------------------------------------------------------------\n",
      "Albert-tokenizer\n",
      "263 tokens\n",
      "----------------------------------------------------------------------------------------------------\n",
      "[CLS] ▁we ▁aimed ▁to ▁ evaluate ▁the ▁effect ▁of ▁sleep ▁quality ▁on ▁memory , ▁executive ▁function , ▁and ▁language ▁performance ▁in ▁patients ▁with ▁re frac tory ▁focal ▁epilepsy ▁and ▁controlled ▁epilepsy ▁and ▁compare ▁these ▁with ▁healthy ▁individuals . ▁we ▁prospective ly ▁enrolled ▁37 ▁adolescent ▁and ▁adult ▁patients ▁with ▁re frac tory ▁focal ▁epilepsy . ▁how ▁to ▁avoid ▁anti - clockwise ▁rotation ▁animation ▁when ▁reset ing ▁rotation ▁from ▁360 de g ▁to ▁0 ▁de g ? ▁i ▁am ▁creating ▁an ▁animation ▁that ▁looks ▁like ▁a ▁fancy ▁wheel , ▁when ▁re setting ▁rotation ▁from ▁360 de g ▁to ▁0 ▁de g , ▁it ▁anima ting ▁the ▁wheel ▁in ▁anti - clockwise ▁direction , ▁how ▁to ▁avoid ▁this ? ? ? ▁ html ▁ <unk> ul ▁class = \" cm \" <unk> ▁ <unk> li <unk> s pan <unk> 01 <unk> / s pan <unk> / li <unk> ▁ <unk> li <unk> s pan <unk> 02 <unk> / s pan <unk> / li <unk> ▁ <unk> li <unk> s pan <unk> 03 <unk> / s pan <unk> / li <unk> ▁ <unk> li <unk> s pan <unk> 04 <unk> / s pan <unk> / li <unk> ▁ <unk> li <unk> s pan <unk> 05 <unk> / s pan <unk> / li <unk> ▁ <unk> li <unk> s pan <unk> 06 <unk> / s pan <unk> / li <unk> ▁ <unk> li <unk> s pan <unk> 07 <unk> / s pan <unk> / li <unk> ▁ <unk> li <unk> s pan <unk> 08 <unk> / s pan <unk> / li <unk> ▁ <unk> / ul <unk> [SEP]\n"
     ]
    }
   ],
   "source": [
    "from glob import glob\n",
    "import sentencepiece as spm\n",
    "from tokenizers import SentencePieceUnigramTokenizer\n",
    "from transformers import AlbertTokenizer\n",
    "\n",
    "text_sample = \"\"\"We aimed to evaluate the effect of sleep quality on memory, executive function, and language performance in patients with refractory focal epilepsy and controlled epilepsy and compare these\n",
    " with healthy individuals. We prospectively enrolled 37 adolescent and adult patients with refractory focal epilepsy.\n",
    "\n",
    "How to avoid anti-clockwise rotation animation when reseting rotation from 360deg to 0 deg?\n",
    "\n",
    "I am creating an animation that looks like a fancy wheel, When resetting rotation from 360deg to 0 deg, It animating the wheel in anti-clockwise direction, How to Avoid this???\n",
    "HTML\n",
    "<ul class=\"cm\">\n",
    "  <li><span>01</span></li>\n",
    "  <li><span>02</span></li>\n",
    "  <li><span>03</span></li>\n",
    "  <li><span>04</span></li>\n",
    "  <li><span>05</span></li>\n",
    "  <li><span>06</span></li>\n",
    "  <li><span>07</span></li>\n",
    "  <li><span>08</span></li>\n",
    "</ul>\n",
    "\"\"\"\n",
    "\n",
    "print(\"Split on whitespace\", len(text_sample.split()), \"tokens\")\n",
    "\n",
    "for t in (4, 8, 16, 32):\n",
    "    print(\"-\"*100)\n",
    "    print(f\"Loading {t}k_model\")\n",
    "    tokenizer = SentencePieceUnigramTokenizer.from_spm(f\"spmodels/pile_{t}k.model\")\n",
    "    tokenized = tokenizer.encode(text_sample)\n",
    "    print(len(tokenized), \"tokens\")\n",
    "    print(\"-\" *100)\n",
    "    print(\" \".join(tokenized.tokens))\n",
    "\n",
    "print(\"-\" *100)\n",
    "print(\"Albert-tokenizer\")\n",
    "tok = AlbertTokenizer.from_pretrained(\"albert-large-v2\")\n",
    "altok = tok.encode(text_sample)\n",
    "print(len(altok), \"tokens\")\n",
    "print(\"-\" *100)\n",
    "print(\" \".join(tok.convert_ids_to_tokens(altok)))"
   ]
  },
  {
   "cell_type": "code",
   "execution_count": 3,
   "metadata": {},
   "outputs": [
    {
     "name": "stdout",
     "output_type": "stream",
     "text": [
      "----------------------------------------------------------------------------------------------------\n",
      "Loading 4k_model\n",
      "----------------------------------------------------------------------------------------------------\n",
      "Loading 8k_model\n",
      "----------------------------------------------------------------------------------------------------\n",
      "Loading 16k_model\n",
      "----------------------------------------------------------------------------------------------------\n",
      "Loading 32k_model\n"
     ]
    }
   ],
   "source": [
    "\"\"\"Save tokenizers into json\"\"\"\n",
    "\n",
    "from tokenizers import SentencePieceUnigramTokenizer\n",
    "\n",
    "for t in (4, 8, 16, 32):\n",
    "    print(\"-\"*100)\n",
    "    print(f\"Loading {t}k_model\")\n",
    "    tokenizer = SentencePieceUnigramTokenizer.from_spm(f\"spmodels/pile_{t}k.model\")\n",
    "    tokenizer.save(f\"tokenizers/pile_{t}.json\", pretty=True)"
   ]
  }
 ],
 "metadata": {
  "kernelspec": {
   "display_name": "Python 3",
   "language": "python",
   "name": "python3"
  },
  "language_info": {
   "codemirror_mode": {
    "name": "ipython",
    "version": 3
   },
   "file_extension": ".py",
   "mimetype": "text/x-python",
   "name": "python",
   "nbconvert_exporter": "python",
   "pygments_lexer": "ipython3",
   "version": "3.7.9"
  }
 },
 "nbformat": 4,
 "nbformat_minor": 4
}
